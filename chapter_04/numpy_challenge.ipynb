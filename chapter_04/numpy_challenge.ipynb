{
  "nbformat": 4,
  "nbformat_minor": 0,
  "metadata": {
    "colab": {
      "name": "numpy_challenge.ipynb",
      "provenance": [],
      "include_colab_link": true
    },
    "kernelspec": {
      "name": "python3",
      "display_name": "Python 3"
    }
  },
  "cells": [
    {
      "cell_type": "markdown",
      "metadata": {
        "id": "view-in-github",
        "colab_type": "text"
      },
      "source": [
        "<a href=\"https://colab.research.google.com/github/GermanUSCO/Trabajos_data_science/blob/main/chapter_04/numpy_challenge.ipynb\" target=\"_parent\"><img src=\"https://colab.research.google.com/assets/colab-badge.svg\" alt=\"Open In Colab\"/></a>"
      ]
    },
    {
      "cell_type": "markdown",
      "metadata": {
        "id": "sVyBG_cKTAwL"
      },
      "source": [
        "#NumPy Challenge"
      ]
    },
    {
      "cell_type": "markdown",
      "metadata": {
        "id": "NSnRQUO1RDEh"
      },
      "source": [
        "Create a NumPy ndarray object by using this list of numbers [7,8,4,5,1,2].\n"
      ]
    },
    {
      "cell_type": "code",
      "metadata": {
        "id": "P-2GBUw-Q60r",
        "colab": {
          "base_uri": "https://localhost:8080/"
        },
        "outputId": "2105bc63-3096-431a-8cbc-3055e7fd410c"
      },
      "source": [
        "import numpy as np\n",
        "\n",
        "numbers = [7, 8, 4, 5, 1, 2]\n",
        "num_array = np.array(numbers)\n",
        "\n",
        "print(num_array)\n"
      ],
      "execution_count": 1,
      "outputs": [
        {
          "output_type": "stream",
          "name": "stdout",
          "text": [
            "[7 8 4 5 1 2]\n"
          ]
        }
      ]
    },
    {
      "cell_type": "markdown",
      "metadata": {
        "id": "zSoe7IVrQ9Gw"
      },
      "source": [
        "Using slicing print the elements from index 3 to the end of the array.\n",
        "\n"
      ]
    },
    {
      "cell_type": "code",
      "metadata": {
        "id": "XUVmHemyRM_K",
        "colab": {
          "base_uri": "https://localhost:8080/"
        },
        "outputId": "9885e339-82d9-4c6c-92b8-3df39bf17ff5"
      },
      "source": [
        "import numpy as np\n",
        "\n",
        "numbers = [7, 8, 4, 5, 1, 2]\n",
        "num_array = np.array(numbers)\n",
        "\n",
        "sliced_elements = num_array[3:]\n",
        "\n",
        "print(sliced_elements)\n"
      ],
      "execution_count": 2,
      "outputs": [
        {
          "output_type": "stream",
          "name": "stdout",
          "text": [
            "[5 1 2]\n"
          ]
        }
      ]
    },
    {
      "cell_type": "markdown",
      "metadata": {
        "id": "DejW1hk-ROcM"
      },
      "source": [
        "Using slicing print all the elements except the last one.\n",
        "\n"
      ]
    },
    {
      "cell_type": "code",
      "metadata": {
        "id": "W-1sPgknSbQg",
        "colab": {
          "base_uri": "https://localhost:8080/"
        },
        "outputId": "20b7a45a-c39c-46b8-f483-a1aa2427a845"
      },
      "source": [
        "import numpy as np\n",
        "\n",
        "numbers = [7, 8, 4, 5, 1, 2]\n",
        "num_array = np.array(numbers)\n",
        "\n",
        "elements_except_last = num_array[:-1]\n",
        "\n",
        "print(elements_except_last)\n"
      ],
      "execution_count": 3,
      "outputs": [
        {
          "output_type": "stream",
          "name": "stdout",
          "text": [
            "[7 8 4 5 1]\n"
          ]
        }
      ]
    },
    {
      "cell_type": "markdown",
      "metadata": {
        "id": "kTE3PxezRSFu"
      },
      "source": [
        "Using slicing print the elements from index 1 to index 4 of the array.\n",
        "\n"
      ]
    },
    {
      "cell_type": "code",
      "metadata": {
        "id": "KyuRjCKBRWNO",
        "colab": {
          "base_uri": "https://localhost:8080/"
        },
        "outputId": "a2d60a8a-420d-48e2-aaf9-9db2b0cb03de"
      },
      "source": [
        "import numpy as np\n",
        "\n",
        "numbers = [7, 8, 4, 5, 1, 2]\n",
        "num_array = np.array(numbers)\n",
        "\n",
        "sliced_elements = num_array[1:5]\n",
        "\n",
        "print(sliced_elements)\n"
      ],
      "execution_count": 4,
      "outputs": [
        {
          "output_type": "stream",
          "name": "stdout",
          "text": [
            "[8 4 5 1]\n"
          ]
        }
      ]
    },
    {
      "cell_type": "markdown",
      "metadata": {
        "id": "HlHIAmE3RW9U"
      },
      "source": [
        "Reshape the array into a 3 rows and 2 cols (3,2).\n",
        "\n"
      ]
    },
    {
      "cell_type": "code",
      "metadata": {
        "id": "Mh65VUorRZV6",
        "colab": {
          "base_uri": "https://localhost:8080/"
        },
        "outputId": "a1d4c95c-6769-4f1a-d37f-795d0b2d11b3"
      },
      "source": [
        "import numpy as np\n",
        "\n",
        "numbers = [7, 8, 4, 5, 1, 2]\n",
        "num_array = np.array(numbers)\n",
        "\n",
        "reshaped_array = num_array.reshape(3, 2)\n",
        "\n",
        "print(\"Original reshaped array:\")\n",
        "print(reshaped_array)\n",
        "\n",
        "reshaped_again = reshaped_array.reshape(3, 2)\n",
        "\n",
        "print(\"Reshaped again into 3x2:\")\n",
        "print(reshaped_again)\n"
      ],
      "execution_count": 5,
      "outputs": [
        {
          "output_type": "stream",
          "name": "stdout",
          "text": [
            "Original reshaped array:\n",
            "[[7 8]\n",
            " [4 5]\n",
            " [1 2]]\n",
            "Reshaped again into 3x2:\n",
            "[[7 8]\n",
            " [4 5]\n",
            " [1 2]]\n"
          ]
        }
      ]
    },
    {
      "cell_type": "markdown",
      "metadata": {
        "id": "7EA2AxnKRZ-B"
      },
      "source": [
        "Print all the array elements one by one (iterating).\n",
        "\n"
      ]
    },
    {
      "cell_type": "code",
      "metadata": {
        "id": "NA_5SBc9SFNn",
        "colab": {
          "base_uri": "https://localhost:8080/"
        },
        "outputId": "e5dbe3f9-b5af-4f9b-c002-4187891dd055"
      },
      "source": [
        "import numpy as np\n",
        "\n",
        "numbers = [7, 8, 4, 5, 1, 2]\n",
        "num_array = np.array(numbers)\n",
        "\n",
        "for element in num_array:\n",
        "    print(element)\n"
      ],
      "execution_count": 6,
      "outputs": [
        {
          "output_type": "stream",
          "name": "stdout",
          "text": [
            "7\n",
            "8\n",
            "4\n",
            "5\n",
            "1\n",
            "2\n"
          ]
        }
      ]
    },
    {
      "cell_type": "markdown",
      "metadata": {
        "id": "gmDsX1y1RcsQ"
      },
      "source": [
        "Create a new NumPy ndarray object by using this list of numbers [0,6,9].\n",
        "\n"
      ]
    },
    {
      "cell_type": "code",
      "metadata": {
        "id": "VmE_QUleSD_P",
        "colab": {
          "base_uri": "https://localhost:8080/"
        },
        "outputId": "5e456249-aa07-49ab-899b-c5f5c50c6bb8"
      },
      "source": [
        "import numpy as np\n",
        "\n",
        "new_numbers = [0, 6, 9]\n",
        "new_num_array = np.array(new_numbers)\n",
        "\n",
        "print(new_num_array)\n"
      ],
      "execution_count": 7,
      "outputs": [
        {
          "output_type": "stream",
          "name": "stdout",
          "text": [
            "[0 6 9]\n"
          ]
        }
      ]
    },
    {
      "cell_type": "markdown",
      "metadata": {
        "id": "jloT--lqRf7j"
      },
      "source": [
        "Join the two arrays.\n",
        "\n"
      ]
    },
    {
      "cell_type": "code",
      "metadata": {
        "id": "unD39X5dSDSn",
        "colab": {
          "base_uri": "https://localhost:8080/"
        },
        "outputId": "4abe3a2e-8486-431d-dc34-5021899e84a6"
      },
      "source": [
        "import numpy as np\n",
        "\n",
        "numbers = [7, 8, 4, 5, 1, 2]\n",
        "num_array = np.array(numbers)\n",
        "\n",
        "new_numbers = [0, 6, 9]\n",
        "new_num_array = np.array(new_numbers)\n",
        "\n",
        "concatenated_array = np.concatenate((num_array, new_num_array))\n",
        "\n",
        "print(concatenated_array)\n"
      ],
      "execution_count": 8,
      "outputs": [
        {
          "output_type": "stream",
          "name": "stdout",
          "text": [
            "[7 8 4 5 1 2 0 6 9]\n"
          ]
        }
      ]
    },
    {
      "cell_type": "markdown",
      "metadata": {
        "id": "XfoeRhPERjPR"
      },
      "source": [
        "Using filtering print only the odd numbers of the joined array.\n",
        "\n"
      ]
    },
    {
      "cell_type": "code",
      "metadata": {
        "id": "Be-oEmWNSCKG",
        "colab": {
          "base_uri": "https://localhost:8080/"
        },
        "outputId": "dd8c2c13-e5b4-4159-9355-d57c69068a69"
      },
      "source": [
        "import numpy as np\n",
        "\n",
        "numbers = [7, 8, 4, 5, 1, 2]\n",
        "num_array = np.array(numbers)\n",
        "\n",
        "new_numbers = [0, 6, 9]\n",
        "new_num_array = np.array(new_numbers)\n",
        "\n",
        "concatenated_array = np.concatenate((num_array, new_num_array))\n",
        "\n",
        "odd_numbers = concatenated_array[concatenated_array % 2 != 0]\n",
        "\n",
        "print(odd_numbers)\n"
      ],
      "execution_count": 9,
      "outputs": [
        {
          "output_type": "stream",
          "name": "stdout",
          "text": [
            "[7 5 1 9]\n"
          ]
        }
      ]
    },
    {
      "cell_type": "markdown",
      "metadata": {
        "id": "cMZHbF4JRlwJ"
      },
      "source": [
        "Sort the joined array elements.\n",
        "\n"
      ]
    },
    {
      "cell_type": "code",
      "metadata": {
        "id": "d3ta_UTjSBb3",
        "colab": {
          "base_uri": "https://localhost:8080/"
        },
        "outputId": "9b096483-6a92-453a-8d3d-6c6559b0a9b3"
      },
      "source": [
        "import numpy as np\n",
        "\n",
        "numbers = [7, 8, 4, 5, 1, 2]\n",
        "num_array = np.array(numbers)\n",
        "\n",
        "new_numbers = [0, 6, 9]\n",
        "new_num_array = np.array(new_numbers)\n",
        "\n",
        "concatenated_array = np.concatenate((num_array, new_num_array))\n",
        "\n",
        "sorted_array = np.sort(concatenated_array)\n",
        "\n",
        "print(sorted_array)\n"
      ],
      "execution_count": 10,
      "outputs": [
        {
          "output_type": "stream",
          "name": "stdout",
          "text": [
            "[0 1 2 4 5 6 7 8 9]\n"
          ]
        }
      ]
    },
    {
      "cell_type": "markdown",
      "metadata": {
        "id": "F0u9Tf_pRoKR"
      },
      "source": [
        "Store in an array the names of the months.\n",
        "\n"
      ]
    },
    {
      "cell_type": "code",
      "metadata": {
        "id": "a6trOwrmSAg6",
        "colab": {
          "base_uri": "https://localhost:8080/"
        },
        "outputId": "8dda79c1-d3fd-47bf-ca20-fa8cb3cf3309"
      },
      "source": [
        "import numpy as np\n",
        "\n",
        "months = ['Enero', 'Febrero', 'Marzo', 'Abril', 'Mayo', 'Junio', 'Julio', 'Agosto', 'Septimbre', 'Octubre', 'Noviembre', 'Diciembre']\n",
        "months_array = np.array(months)\n",
        "\n",
        "print(months_array)\n"
      ],
      "execution_count": 12,
      "outputs": [
        {
          "output_type": "stream",
          "name": "stdout",
          "text": [
            "['Enero' 'Febrero' 'Marzo' 'Abril' 'Mayo' 'Junio' 'Julio' 'Agosto'\n",
            " 'Septimbre' 'Octubre' 'Noviembre' 'Diciembre']\n"
          ]
        }
      ]
    },
    {
      "cell_type": "markdown",
      "metadata": {
        "id": "zMHje9-zRqrR"
      },
      "source": [
        "Split the months array in 4 periods of 3 elements each one.\n",
        "\n"
      ]
    },
    {
      "cell_type": "code",
      "metadata": {
        "id": "jht0_5-iR_xn",
        "colab": {
          "base_uri": "https://localhost:8080/"
        },
        "outputId": "e0bd32ec-e92a-49a3-cb7a-b5437a4d196f"
      },
      "source": [
        "import numpy as np\n",
        "\n",
        "months = ['Enero', 'Febrero', 'Marzo', 'Abril', 'Mayo', 'Junio', 'Julio', 'Agosto', 'Septiembre', 'Octubre', 'Noviembre', 'Diciembre']\n",
        "months_array = np.array(months)\n",
        "\n",
        "split_periods = np.array_split(months_array, 4)\n",
        "\n",
        "for period in split_periods:\n",
        "    print(period)\n",
        "    print(\"----\")\n"
      ],
      "execution_count": 13,
      "outputs": [
        {
          "output_type": "stream",
          "name": "stdout",
          "text": [
            "['Enero' 'Febrero' 'Marzo']\n",
            "----\n",
            "['Abril' 'Mayo' 'Junio']\n",
            "----\n",
            "['Julio' 'Agosto' 'Septiembre']\n",
            "----\n",
            "['Octubre' 'Noviembre' 'Diciembre']\n",
            "----\n"
          ]
        }
      ]
    },
    {
      "cell_type": "markdown",
      "metadata": {
        "id": "ukxoOg5rRtkJ"
      },
      "source": [
        "Create an array with genre information ['F','M','F','F','M','F'].\n",
        "\n"
      ]
    },
    {
      "cell_type": "code",
      "metadata": {
        "id": "GZLCMD2OR-4G",
        "colab": {
          "base_uri": "https://localhost:8080/"
        },
        "outputId": "e5d60484-c095-41e5-84e4-be5c41442938"
      },
      "source": [
        "import numpy as np\n",
        "\n",
        "gender_info = ['F', 'M', 'F', 'F', 'M', 'F']\n",
        "gender_array = np.array(gender_info)\n",
        "\n",
        "print(gender_array)\n"
      ],
      "execution_count": 14,
      "outputs": [
        {
          "output_type": "stream",
          "name": "stdout",
          "text": [
            "['F' 'M' 'F' 'F' 'M' 'F']\n"
          ]
        }
      ]
    },
    {
      "cell_type": "markdown",
      "metadata": {
        "id": "VlLwuy-ERvzu"
      },
      "source": [
        "Find the indexes where the value is F.\n",
        "\n"
      ]
    },
    {
      "cell_type": "code",
      "metadata": {
        "id": "dx0LCoSAR9-w",
        "colab": {
          "base_uri": "https://localhost:8080/"
        },
        "outputId": "2d04d66b-9301-40aa-81ab-0388e3d63572"
      },
      "source": [
        "import numpy as np\n",
        "\n",
        "gender_info = ['F', 'M', 'F', 'F', 'M', 'F']\n",
        "gender_array = np.array(gender_info)\n",
        "\n",
        "indexes = np.where(gender_array == 'F')[0]\n",
        "\n",
        "print(\"Indexes where value is 'F':\", indexes)\n"
      ],
      "execution_count": 15,
      "outputs": [
        {
          "output_type": "stream",
          "name": "stdout",
          "text": [
            "Indexes where value is 'F': [0 2 3 5]\n"
          ]
        }
      ]
    },
    {
      "cell_type": "markdown",
      "metadata": {
        "id": "y0Uk475sRytB"
      },
      "source": [
        "Store in an array the age information [18,20,19,23,19,20].\n",
        "\n"
      ]
    },
    {
      "cell_type": "code",
      "metadata": {
        "id": "tABLVP7gR9QP",
        "colab": {
          "base_uri": "https://localhost:8080/"
        },
        "outputId": "3686c7fa-f945-4797-f2e4-26603133df38"
      },
      "source": [
        "import numpy as np\n",
        "\n",
        "age_info = [18, 20, 19, 23, 19, 20]\n",
        "age_array = np.array(age_info)\n",
        "\n",
        "print(age_array)\n"
      ],
      "execution_count": 16,
      "outputs": [
        {
          "output_type": "stream",
          "name": "stdout",
          "text": [
            "[18 20 19 23 19 20]\n"
          ]
        }
      ]
    },
    {
      "cell_type": "markdown",
      "metadata": {
        "id": "D-VswLqJR05A"
      },
      "source": [
        "Create a filter array with values < 20.\n",
        "\n"
      ]
    },
    {
      "cell_type": "code",
      "metadata": {
        "id": "tk4jIi3pR8aZ",
        "colab": {
          "base_uri": "https://localhost:8080/"
        },
        "outputId": "32961184-1eb4-4b3f-9924-ad2a2b2f1f7c"
      },
      "source": [
        "import numpy as np\n",
        "\n",
        "age_info = [18, 20, 19, 23, 19, 20]\n",
        "age_array = np.array(age_info)\n",
        "\n",
        "filter_array = age_array < 20\n",
        "\n",
        "print(filter_array)\n"
      ],
      "execution_count": 17,
      "outputs": [
        {
          "output_type": "stream",
          "name": "stdout",
          "text": [
            "[ True False  True False  True False]\n"
          ]
        }
      ]
    },
    {
      "cell_type": "markdown",
      "metadata": {
        "id": "aiGbZbwHR3CJ"
      },
      "source": [
        "Change the 3 index element with a value of 22\n",
        "\n"
      ]
    },
    {
      "cell_type": "code",
      "metadata": {
        "id": "OMpH-wT6R7iK",
        "colab": {
          "base_uri": "https://localhost:8080/"
        },
        "outputId": "68d92001-e3b4-4924-b3bc-2bc3b3f7ef83"
      },
      "source": [
        "import numpy as np\n",
        "\n",
        "age_info = [18, 20, 19, 23, 19, 20]\n",
        "age_array = np.array(age_info)\n",
        "\n",
        "age_array[3] = 22\n",
        "\n",
        "print(age_array)\n"
      ],
      "execution_count": 18,
      "outputs": [
        {
          "output_type": "stream",
          "name": "stdout",
          "text": [
            "[18 20 19 22 19 20]\n"
          ]
        }
      ]
    },
    {
      "cell_type": "markdown",
      "metadata": {
        "id": "0DELnRV_R5Df"
      },
      "source": [
        "Print the 4 index element."
      ]
    },
    {
      "cell_type": "code",
      "metadata": {
        "id": "SOg99cxZR6ZX",
        "colab": {
          "base_uri": "https://localhost:8080/"
        },
        "outputId": "af5ffd21-e4cc-487a-92cf-67b8e59a0c93"
      },
      "source": [
        "import numpy as np\n",
        "\n",
        "age_info = [18, 20, 19, 23, 19, 20]\n",
        "age_array = np.array(age_info)\n",
        "\n",
        "element_at_index_4 = age_array[4]\n",
        "\n",
        "print(element_at_index_4)"
      ],
      "execution_count": 19,
      "outputs": [
        {
          "output_type": "stream",
          "name": "stdout",
          "text": [
            "19\n"
          ]
        }
      ]
    }
  ]
}